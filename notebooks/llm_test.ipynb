{
 "cells": [
  {
   "cell_type": "code",
   "execution_count": 1,
   "id": "8d40f2a9",
   "metadata": {},
   "outputs": [
    {
     "name": "stderr",
     "output_type": "stream",
     "text": [
      "c:\\Users\\aayus\\OneDrive\\Desktop\\AI workspace\\Vulnerabilities\\vm-command-runner\\venv\\Lib\\site-packages\\tqdm\\auto.py:21: TqdmWarning: IProgress not found. Please update jupyter and ipywidgets. See https://ipywidgets.readthedocs.io/en/stable/user_install.html\n",
      "  from .autonotebook import tqdm as notebook_tqdm\n"
     ]
    }
   ],
   "source": [
    "import sys\n",
    "import os\n",
    "sys.path.append(os.path.abspath(\"..\"))\n",
    "from llm_agents import command_generator_agent\n",
    "from llm_agents import rollback_generator_agent"
   ]
  },
  {
   "cell_type": "code",
   "execution_count": 2,
   "id": "35f78f9a",
   "metadata": {},
   "outputs": [
    {
     "name": "stderr",
     "output_type": "stream",
     "text": [
      "c:\\Users\\aayus\\OneDrive\\Desktop\\AI workspace\\Vulnerabilities\\vm-command-runner\\llm_agents\\command_generator_agent.py:30: LangChainDeprecationWarning: The class `LLMChain` was deprecated in LangChain 0.1.17 and will be removed in 1.0. Use :meth:`~RunnableSequence, e.g., `prompt | llm`` instead.\n",
      "  chain = LLMChain(llm=llm, prompt=prompt)\n",
      "c:\\Users\\aayus\\OneDrive\\Desktop\\AI workspace\\Vulnerabilities\\vm-command-runner\\llm_agents\\command_generator_agent.py:31: LangChainDeprecationWarning: The method `Chain.run` was deprecated in langchain 0.1.0 and will be removed in 1.0. Use :meth:`~invoke` instead.\n",
      "  script = chain.run({\"package\": package, \"current_version\": current_version, \"updated_version\": updated_version, \"os_type\": os_type}).strip()\n"
     ]
    }
   ],
   "source": [
    "upgrade_script = command_generator_agent.generate_script(package=\"openssl\",  current_version=\"3.0.13\", updated_version=\"3.1.1\", os_type='Ubuntu')"
   ]
  },
  {
   "cell_type": "code",
   "execution_count": null,
   "id": "73127090",
   "metadata": {},
   "outputs": [],
   "source": [
    "upgrade_script"
   ]
  },
  {
   "cell_type": "code",
   "execution_count": null,
   "id": "16c7e3c9",
   "metadata": {},
   "outputs": [],
   "source": [
    "rollback_script = rollback_generator_agent.generate_revert_script(upgrade_script)"
   ]
  },
  {
   "cell_type": "code",
   "execution_count": null,
   "id": "45e75dd4",
   "metadata": {},
   "outputs": [],
   "source": []
  }
 ],
 "metadata": {
  "kernelspec": {
   "display_name": "venv",
   "language": "python",
   "name": "python3"
  },
  "language_info": {
   "codemirror_mode": {
    "name": "ipython",
    "version": 3
   },
   "file_extension": ".py",
   "mimetype": "text/x-python",
   "name": "python",
   "nbconvert_exporter": "python",
   "pygments_lexer": "ipython3",
   "version": "3.11.9"
  }
 },
 "nbformat": 4,
 "nbformat_minor": 5
}
