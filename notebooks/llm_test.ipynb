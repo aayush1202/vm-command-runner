{
 "cells": [
  {
   "cell_type": "code",
   "execution_count": 6,
   "id": "8d40f2a9",
   "metadata": {},
   "outputs": [],
   "source": [
    "import sys\n",
    "import os\n",
    "sys.path.append(os.path.abspath(\"..\"))\n",
    "from llm_agents import command_generator_agent\n",
    "from llm_agents import rollback_generator_agent"
   ]
  },
  {
   "cell_type": "code",
   "execution_count": 3,
   "id": "35f78f9a",
   "metadata": {},
   "outputs": [
    {
     "name": "stderr",
     "output_type": "stream",
     "text": [
      "c:\\Users\\aayus\\OneDrive\\Desktop\\AI workspace\\Vulnerabilities\\vm-command-runner\\llm_agents\\command_generator_agent.py:27: LangChainDeprecationWarning: The class `LLMChain` was deprecated in LangChain 0.1.17 and will be removed in 1.0. Use :meth:`~RunnableSequence, e.g., `prompt | llm`` instead.\n",
      "  chain = LLMChain(llm=llm, prompt=prompt)\n",
      "c:\\Users\\aayus\\OneDrive\\Desktop\\AI workspace\\Vulnerabilities\\vm-command-runner\\llm_agents\\command_generator_agent.py:28: LangChainDeprecationWarning: The method `Chain.run` was deprecated in langchain 0.1.0 and will be removed in 1.0. Use :meth:`~invoke` instead.\n",
      "  script = chain.run({\"package\": package, \"current_version\": current_version, \"updated_version\": updated_version, \"os_type\": os_type}).strip()\n"
     ]
    }
   ],
   "source": [
    "upgrade_script = command_generator_agent.generate_script(package=\"python\",  current_version=\"3.11.9\", updated_version=\"3.12\", os_type='Linux')"
   ]
  },
  {
   "cell_type": "code",
   "execution_count": 4,
   "id": "73127090",
   "metadata": {},
   "outputs": [
    {
     "data": {
      "text/plain": [
       "'```bash\\n#!/bin/bash\\n\\n# Check if running as root\\nif [[ $EUID -ne 0 ]]; then\\n  echo \"This script must be run as root.\"\\n  exit 1\\nfi\\n\\n# --- Update System Packages ---\\napt update -y\\napt upgrade -y\\n\\n# --- Remove existing Python 3.11 (if installed via apt) ---\\nif python3.11 --version &> /dev/null; then\\n  apt remove -y python3.11\\n  apt autoremove -y\\nfi\\n\\n# --- Install dependencies for Python 3.12 (if not already present) ---\\napt install -y --no-install-recommends \\\\\\n    build-essential \\\\\\n    libssl-dev \\\\\\n    zlib1g-dev \\\\\\n    libncursesw5-dev \\\\\\n    libreadline-dev \\\\\\n    libsqlite3-dev \\\\\\n    tk-dev \\\\\\n    libgdbm-dev \\\\\\n    libc6-dev \\\\\\n    libbz2-dev \\\\\\n    libffi-dev \\\\\\n    wget\\n\\n# --- Download Python 3.12 source code ---\\nPYTHON_VERSION=\"3.12.4\" # Or the latest 3.12 version\\nDOWNLOAD_URL=\"https://www.python.org/ftp/python/${PYTHON_VERSION}/Python-${PYTHON_VERSION}.tgz\"\\nTEMP_DIR=$(mktemp -d)\\n\\nwget -q \"${DOWNLOAD_URL}\" -O \"${TEMP_DIR}/python.tgz\"\\n\\n# --- Extract the source code ---\\ntar -xzf \"${TEMP_DIR}/python.tgz\" -C \"${TEMP_DIR}\"\\n\\n# --- Build and install Python 3.12 ---\\ncd \"${TEMP_DIR}/Python-${PYTHON_VERSION}\"\\n./configure --enable-optimizations\\nmake -j $(nproc)\\nmake altinstall\\n\\n# --- Clean up ---\\ncd /\\nrm -rf \"${TEMP_DIR}\"\\n\\n# --- Verify Installation ---\\npython3.12 --version\\nif ! python3.12 --version &> /dev/null; then\\n  echo \"Python 3.12 installation failed.\"\\n  exit 1\\nfi\\n\\n# --- Update alternatives (if needed) ---\\n# update-alternatives --install /usr/bin/python python /usr/bin/python3.12 1\\n# update-alternatives --install /usr/bin/python3 python3 /usr/bin/python3.12 1\\n\\n# --- Optional: Create a symlink for \\'python\\' (use with caution) ---\\n# ln -s /usr/bin/python3.12 /usr/bin/python\\n\\necho \"Python 3.12 installed successfully.\"\\nexit 0\\n```'"
      ]
     },
     "execution_count": 4,
     "metadata": {},
     "output_type": "execute_result"
    }
   ],
   "source": [
    "upgrade_script"
   ]
  },
  {
   "cell_type": "code",
   "execution_count": 7,
   "id": "16c7e3c9",
   "metadata": {},
   "outputs": [],
   "source": [
    "rollback_script = rollback_generator_agent.generate_revert_script(upgrade_script)"
   ]
  },
  {
   "cell_type": "code",
   "execution_count": null,
   "id": "45e75dd4",
   "metadata": {},
   "outputs": [],
   "source": []
  }
 ],
 "metadata": {
  "kernelspec": {
   "display_name": "venv",
   "language": "python",
   "name": "python3"
  },
  "language_info": {
   "codemirror_mode": {
    "name": "ipython",
    "version": 3
   },
   "file_extension": ".py",
   "mimetype": "text/x-python",
   "name": "python",
   "nbconvert_exporter": "python",
   "pygments_lexer": "ipython3",
   "version": "3.11.9"
  }
 },
 "nbformat": 4,
 "nbformat_minor": 5
}
