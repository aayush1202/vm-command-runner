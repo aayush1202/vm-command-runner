{
 "cells": [
  {
   "cell_type": "code",
   "execution_count": null,
   "id": "8d40f2a9",
   "metadata": {},
   "outputs": [
    {
     "name": "stderr",
     "output_type": "stream",
     "text": [
      "c:\\Users\\aayus\\OneDrive\\Desktop\\Code workspace\\vm-command-runner\\venv\\Lib\\site-packages\\tqdm\\auto.py:21: TqdmWarning: IProgress not found. Please update jupyter and ipywidgets. See https://ipywidgets.readthedocs.io/en/stable/user_install.html\n",
      "  from .autonotebook import tqdm as notebook_tqdm\n"
     ]
    }
   ],
   "source": [
    "import sys\n",
    "import os\n",
    "sys.path.append(os.path.abspath(\"..\"))\n",
    "from llm_agents import command_generator_windows\n",
    "from llm_agents import "
   ]
  },
  {
   "cell_type": "code",
   "execution_count": 2,
   "id": "35f78f9a",
   "metadata": {},
   "outputs": [
    {
     "name": "stderr",
     "output_type": "stream",
     "text": [
      "c:\\Users\\aayus\\OneDrive\\Desktop\\Code workspace\\vm-command-runner\\llm_agents\\command_generator_windows.py:29: LangChainDeprecationWarning: The class `LLMChain` was deprecated in LangChain 0.1.17 and will be removed in 1.0. Use :meth:`~RunnableSequence, e.g., `prompt | llm`` instead.\n",
      "  chain = LLMChain(llm=llm, prompt=prompt)\n",
      "c:\\Users\\aayus\\OneDrive\\Desktop\\Code workspace\\vm-command-runner\\llm_agents\\command_generator_windows.py:30: LangChainDeprecationWarning: The method `Chain.run` was deprecated in langchain 0.1.0 and will be removed in 1.0. Use :meth:`~invoke` instead.\n",
      "  script = chain.run({\"package\": package, \"updated_version\": updated_version, \"os_type\": os_type}).strip()\n"
     ]
    }
   ],
   "source": [
    "upgrade_script = command_generator_windows.generate_script(package=\"python\",  updated_version=\"3.11.8\", os_type='Windows')"
   ]
  },
  {
   "cell_type": "code",
   "execution_count": 3,
   "id": "73127090",
   "metadata": {},
   "outputs": [
    {
     "data": {
      "text/plain": [
       "'```powershell\\n# Define variables\\n$packageName = \"python\"\\n$packageVersion = \"3.11.8\"\\n$downloadUrl = \"https://www.python.org/ftp/python/3.11.8/python-3.11.8-amd64.exe\"\\n$installerFile = \"python-3.11.8-amd64.exe\"\\n$installPath = \"C:\\\\Program Files\\\\Python311\" # Assuming default install path\\n\\n# Download the installer\\nWrite-Host \"Downloading $packageName $packageVersion...\"\\ntry {\\n    Invoke-WebRequest -Uri $downloadUrl -OutFile $installerFile -UseBasicParsing\\n    Write-Host \"Download complete.\"\\n}\\ncatch {\\n    Write-Host \"Error downloading installer: $($_.Exception.Message)\"\\n    exit 1\\n}\\n\\n# Run the installer silently\\nWrite-Host \"Installing $packageName $packageVersion...\"\\ntry {\\n    Start-Process -FilePath .\\\\$installerFile -ArgumentList \"/quiet InstallAllUsers PrependPath=1 Include_pip=1\" -Wait\\n    Write-Host \"Installation complete.\"\\n}\\ncatch {\\n    Write-Host \"Error installing package: $($_.Exception.Message)\"\\n    exit 1\\n}\\n\\n# Add Python installation directory to PATH if not already present\\n$pathVariable = [Environment]::GetEnvironmentVariable(\"PATH\", \"Machine\")\\nif ($pathVariable -notlike \"*$installPath*\") {\\n    Write-Host \"Adding Python installation directory to PATH...\"\\n    try {\\n        [Environment]::SetEnvironmentVariable(\"PATH\", \"$pathVariable;$installPath\", \"Machine\")\\n        Write-Host \"PATH updated successfully.\"\\n    }\\n    catch {\\n        Write-Host \"Error updating PATH: $($_.Exception.Message)\"\\n        exit 1\\n    }\\n} else {\\n    Write-Host \"Python installation directory already in PATH.\"\\n}\\n\\n# Clean up the installer file\\ntry {\\n    Remove-Item -Path $installerFile -Force\\n    Write-Host \"Installer file removed.\"\\n}\\ncatch {\\n    Write-Host \"Error removing installer file: $($_.Exception.Message)\"\\n}\\n\\nWrite-Host \"Script completed.\"\\n```'"
      ]
     },
     "execution_count": 3,
     "metadata": {},
     "output_type": "execute_result"
    }
   ],
   "source": [
    "upgrade_script"
   ]
  },
  {
   "cell_type": "code",
   "execution_count": null,
   "id": "45e75dd4",
   "metadata": {},
   "outputs": [],
   "source": []
  }
 ],
 "metadata": {
  "kernelspec": {
   "display_name": "venv",
   "language": "python",
   "name": "python3"
  },
  "language_info": {
   "codemirror_mode": {
    "name": "ipython",
    "version": 3
   },
   "file_extension": ".py",
   "mimetype": "text/x-python",
   "name": "python",
   "nbconvert_exporter": "python",
   "pygments_lexer": "ipython3",
   "version": "3.12.10"
  }
 },
 "nbformat": 4,
 "nbformat_minor": 5
}
