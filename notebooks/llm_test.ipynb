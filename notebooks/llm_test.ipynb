{
 "cells": [
  {
   "cell_type": "code",
   "execution_count": 1,
   "id": "8d40f2a9",
   "metadata": {},
   "outputs": [
    {
     "name": "stderr",
     "output_type": "stream",
     "text": [
      "c:\\Users\\aayus\\OneDrive\\Desktop\\AI workspace\\Vulnerabilities\\vm-command-runner\\venv\\Lib\\site-packages\\tqdm\\auto.py:21: TqdmWarning: IProgress not found. Please update jupyter and ipywidgets. See https://ipywidgets.readthedocs.io/en/stable/user_install.html\n",
      "  from .autonotebook import tqdm as notebook_tqdm\n"
     ]
    }
   ],
   "source": [
    "import sys\n",
    "import os\n",
    "sys.path.append(os.path.abspath(\"..\"))\n",
    "from llm_agents import command_generator_agent\n",
    "from llm_agents import rollback_generator_agent"
   ]
  },
  {
   "cell_type": "code",
   "execution_count": 2,
   "id": "35f78f9a",
   "metadata": {},
   "outputs": [
    {
     "name": "stderr",
     "output_type": "stream",
     "text": [
      "c:\\Users\\aayus\\OneDrive\\Desktop\\AI workspace\\Vulnerabilities\\vm-command-runner\\llm_agents\\command_generator_agent.py:33: LangChainDeprecationWarning: The class `LLMChain` was deprecated in LangChain 0.1.17 and will be removed in 1.0. Use :meth:`~RunnableSequence, e.g., `prompt | llm`` instead.\n",
      "  chain = LLMChain(llm=llm, prompt=prompt)\n",
      "c:\\Users\\aayus\\OneDrive\\Desktop\\AI workspace\\Vulnerabilities\\vm-command-runner\\llm_agents\\command_generator_agent.py:34: LangChainDeprecationWarning: The method `Chain.run` was deprecated in langchain 0.1.0 and will be removed in 1.0. Use :meth:`~invoke` instead.\n",
      "  script = chain.run({\"package\": package, \"updated_version\": updated_version, \"os_type\": os_type}).strip()\n"
     ]
    }
   ],
   "source": [
    "upgrade_script = command_generator_agent.generate_script(package=\"openssl\",  updated_version=\"3.1.1\", os_type='Ubuntu')"
   ]
  },
  {
   "cell_type": "code",
   "execution_count": 3,
   "id": "73127090",
   "metadata": {},
   "outputs": [
    {
     "data": {
      "text/plain": [
       "'```sh\\n#!/bin/sh\\n\\n# Set variables\\nOPENSSL_VERSION=\"3.1.1\"\\nOPENSSL_TAR=\"openssl-${OPENSSL_VERSION}.tar.gz\"\\nOPENSSL_URL=\"https://www.openssl.org/source/${OPENSSL_TAR}\"\\nOPENSSL_PREFIX=\"/usr/local/openssl-${OPENSSL_VERSION}\"\\nOPENSSL_BIN_PATH=\"/usr/local/bin\"\\n\\n# Check if openssl is already installed and remove it\\nif command -v openssl >/dev/null 2>&1; then\\n  openssl_version=$(openssl version | awk \\'{print $2}\\')\\n  if [ -n \"$openssl_version\" ] && [ \"$openssl_version\" != \"$OPENSSL_VERSION\" ]; then\\n    echo \"Removing existing openssl...\"\\n    if dpkg -l | grep -q \"openssl\"; then\\n      apt-get -y remove openssl\\n    fi\\n  fi\\nfi\\n\\n# Create the install directory\\nmkdir -p \"$OPENSSL_PREFIX\"\\n\\n# Download the package\\necho \"Downloading openssl...\"\\nwget -O \"$OPENSSL_TAR\" \"$OPENSSL_URL\" || exit 1\\n\\n# Extract the package\\necho \"Extracting openssl...\"\\ntar -xzf \"$OPENSSL_TAR\" || exit 1\\n\\n# Build and install\\necho \"Building and installing openssl...\"\\ncd \"openssl-${OPENSSL_VERSION}\" || exit 1\\n\\n./config --prefix=\"$OPENSSL_PREFIX\" --openssldir=\"$OPENSSL_PREFIX/ssl\" || exit 1\\nmake -j \"$(nproc)\" || exit 1\\nmake install || exit 1\\n\\n# Create symlinks\\necho \"Creating symlinks...\"\\nln -sf \"$OPENSSL_PREFIX/bin/openssl\" \"$OPENSSL_BIN_PATH/openssl\" || exit 1\\n\\n# Clean up\\necho \"Cleaning up...\"\\ncd ..\\nrm -rf \"openssl-${OPENSSL_VERSION}\" \"$OPENSSL_TAR\"\\n\\necho \"openssl ${OPENSSL_VERSION} installed successfully.\"\\n```'"
      ]
     },
     "execution_count": 3,
     "metadata": {},
     "output_type": "execute_result"
    }
   ],
   "source": [
    "upgrade_script"
   ]
  },
  {
   "cell_type": "code",
   "execution_count": null,
   "id": "45e75dd4",
   "metadata": {},
   "outputs": [],
   "source": []
  }
 ],
 "metadata": {
  "kernelspec": {
   "display_name": "venv",
   "language": "python",
   "name": "python3"
  },
  "language_info": {
   "codemirror_mode": {
    "name": "ipython",
    "version": 3
   },
   "file_extension": ".py",
   "mimetype": "text/x-python",
   "name": "python",
   "nbconvert_exporter": "python",
   "pygments_lexer": "ipython3",
   "version": "3.11.9"
  }
 },
 "nbformat": 4,
 "nbformat_minor": 5
}
