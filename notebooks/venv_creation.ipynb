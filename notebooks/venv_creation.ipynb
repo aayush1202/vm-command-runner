{
 "cells": [
  {
   "cell_type": "code",
   "execution_count": 1,
   "id": "2ca394de",
   "metadata": {},
   "outputs": [],
   "source": [
    "import sys\n",
    "import os\n",
    "import subprocess"
   ]
  },
  {
   "cell_type": "code",
   "execution_count": 3,
   "id": "957df9b3",
   "metadata": {},
   "outputs": [
    {
     "name": "stdout",
     "output_type": "stream",
     "text": [
      "Packages installed from requirements.txt\n"
     ]
    }
   ],
   "source": [
    "venv_dir = os.path.abspath(os.path.join(os.getcwd(), \"..\", \"venv\"))\n",
    "\n",
    "# Path to pip inside venv\n",
    "if os.name == \"nt\":\n",
    "    pip_path = os.path.join(venv_dir, \"Scripts\", \"pip.exe\")\n",
    "else:\n",
    "    pip_path = os.path.join(venv_dir, \"bin\", \"pip\")\n",
    "\n",
    "# Path to requirements.txt (one level up from notebooks)\n",
    "requirements_path = os.path.abspath(os.path.join(os.getcwd(), \"..\", \"requirements.txt\"))\n",
    "\n",
    "# Install packages\n",
    "subprocess.check_call([pip_path, \"install\", \"-r\", requirements_path])\n",
    "print(\"Packages installed from requirements.txt\")"
   ]
  },
  {
   "cell_type": "code",
   "execution_count": 2,
   "id": "3d659d14",
   "metadata": {},
   "outputs": [],
   "source": [
    "os.makedirs(\"../generated_scripts\", exist_ok=True)"
   ]
  },
  {
   "cell_type": "code",
   "execution_count": null,
   "id": "b45eea6d",
   "metadata": {},
   "outputs": [],
   "source": []
  }
 ],
 "metadata": {
  "kernelspec": {
   "display_name": "venv",
   "language": "python",
   "name": "python3"
  },
  "language_info": {
   "codemirror_mode": {
    "name": "ipython",
    "version": 3
   },
   "file_extension": ".py",
   "mimetype": "text/x-python",
   "name": "python",
   "nbconvert_exporter": "python",
   "pygments_lexer": "ipython3",
   "version": "3.12.10"
  }
 },
 "nbformat": 4,
 "nbformat_minor": 5
}
